{
 "cells": [
  {
   "cell_type": "markdown",
   "id": "b4dbf052-85e7-42d9-ab8e-3a26034f7948",
   "metadata": {},
   "source": [
    "# Excel Parser\n",
    "\n",
    "Class TabularDataExtractor\n",
    "- Excel File\n",
    "- CSV\n",
    "- PDF\n",
    "\n",
    "Each of these should extract data into a pandas dataframe, which can then be cleaned.\n",
    "\n",
    "Document\n",
    ":param dataframe: Pandas dataframe with the document's content, if the document contains tabular data.\n",
    ":param meta: Additional custom metadata for the document. Must be JSON-serializable.\n",
    "    - number of Nas per row, length of row\n",
    "\n",
    "\n",
    "- Read Excel File\n",
    "- Put each sheet into a list"
   ]
  },
  {
   "cell_type": "code",
   "execution_count": 3,
   "id": "6ad1f7e3-72e3-482e-83b5-35188e4bf25b",
   "metadata": {},
   "outputs": [],
   "source": [
    "test_filepath = \"raw_files/CMS SEAS - Clean PB_KH.xlsx\""
   ]
  },
  {
   "cell_type": "code",
   "execution_count": 4,
   "id": "e550e936-8753-478e-85fa-cbda69639a0c",
   "metadata": {},
   "outputs": [],
   "source": [
    "import pandas as pd\n",
    "import os\n",
    "\n",
    "def find_tables(sheet_df):\n",
    "    \"\"\" \n",
    "    Function gets the length of the first row with non-null values and uses that as the length of the table.\n",
    "    It then iterates through the rows and appends them to the table if they have the same length as the first row.\n",
    "    \"\"\"\n",
    "    tables = []\n",
    "    table = None\n",
    "    current_row_length = 0\n",
    "    \n",
    "    for index, row in sheet_df.iterrows():\n",
    "        non_null_count = row.count()\n",
    "        \n",
    "        if non_null_count == 0:  # Skip rows with all nulls\n",
    "            continue\n",
    "        \n",
    "        if table is None:\n",
    "            current_row_length = non_null_count\n",
    "            table = {'header': row.index[row.notna()].tolist(), 'data': [row.dropna().tolist()]}\n",
    "        elif non_null_count == current_row_length:\n",
    "            table['data'].append(row.dropna().tolist())\n",
    "        else:\n",
    "            if table is not None:\n",
    "                tables.append(table)\n",
    "                table = None\n",
    "                \n",
    "            if non_null_count > 0:\n",
    "                current_row_length = non_null_count\n",
    "                table = {'header': row.index[row.notna()].tolist(), 'data': [row.dropna().tolist()]}\n",
    "\n",
    "    if table is not None:\n",
    "        tables.append(table)\n",
    "        \n",
    "    return tables\n",
    "\n",
    "def save_tables_to_csv(tables, sheet_name, output_folder):\n",
    "    os.makedirs(output_folder, exist_ok=True)\n",
    "    \n",
    "    for i, table in enumerate(tables):\n",
    "        table_df = pd.DataFrame(table['data'], columns=table['header'])\n",
    "        table_df.to_csv(f\"{output_folder}/table{i+1}.csv\", index=False)\n",
    "\n",
    "def parse_excel_file(file_path):\n",
    "    excel_data = pd.ExcelFile(file_path)\n",
    "    \n",
    "    for sheet_name in excel_data.sheet_names:\n",
    "        sheet_df = pd.read_excel(file_path, sheet_name=sheet_name)\n",
    "        tables = find_tables(sheet_df)\n",
    "        save_tables_to_csv(tables, sheet_name, output_folder=sheet_name)"
   ]
  },
  {
   "cell_type": "code",
   "execution_count": null,
   "id": "62ad6d4c-e79b-413c-9a79-842f6e6df4a7",
   "metadata": {},
   "outputs": [],
   "source": [
    "# Example usage\n",
    "parse_excel_file(test_filepath)"
   ]
  },
  {
   "cell_type": "code",
   "execution_count": 2,
   "id": "c4b3dc77-fc26-42eb-889a-23befd2f084d",
   "metadata": {},
   "outputs": [
    {
     "name": "stdout",
     "output_type": "stream",
     "text": [
      "table1.csv  table14.csv table19.csv table23.csv table28.csv table6.csv\n",
      "table10.csv table15.csv table2.csv  table24.csv table29.csv table7.csv\n",
      "table11.csv table16.csv table20.csv table25.csv table3.csv  table8.csv\n",
      "table12.csv table17.csv table21.csv table26.csv table4.csv  table9.csv\n",
      "table13.csv table18.csv table22.csv table27.csv table5.csv\n"
     ]
    }
   ],
   "source": [
    "!ls Sprint\\ Team\\ -\\ Base"
   ]
  },
  {
   "cell_type": "code",
   "execution_count": null,
   "id": "4d9c461f-0d7c-4459-8b8a-81d16781a3aa",
   "metadata": {},
   "outputs": [],
   "source": []
  }
 ],
 "metadata": {
  "kernelspec": {
   "display_name": "Python 3 (ipykernel)",
   "language": "python",
   "name": "python3"
  },
  "language_info": {
   "codemirror_mode": {
    "name": "ipython",
    "version": 3
   },
   "file_extension": ".py",
   "mimetype": "text/x-python",
   "name": "python",
   "nbconvert_exporter": "python",
   "pygments_lexer": "ipython3",
   "version": "3.12.4"
  }
 },
 "nbformat": 4,
 "nbformat_minor": 5
}
